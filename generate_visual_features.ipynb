{
 "cells": [
  {
   "cell_type": "code",
   "execution_count": 19,
   "metadata": {
    "collapsed": true
   },
   "outputs": [
    {
     "data": {
      "text/plain": "90"
     },
     "execution_count": 19,
     "metadata": {},
     "output_type": "execute_result"
    }
   ],
   "source": [
    "from tqdm import tqdm\n",
    "import cv2\n",
    "\n",
    "from dataset.sport_smot_dataset import SportSmotDataset\n",
    "from dataset.sequence import Sequence\n",
    "\n",
    "dataset = SportSmotDataset('/home/rafa/Downloads/sportsmot_publish/dataset')\n",
    "len(dataset.raw_videos)\n"
   ]
  },
  {
   "cell_type": "code",
   "execution_count": 20,
   "outputs": [],
   "source": [
    "from models.i3d import I3D\n",
    "\n",
    "i3d = I3D(feat_ext=True)\n",
    "det_w = det_h = 244\n"
   ],
   "metadata": {
    "collapsed": false
   }
  },
  {
   "cell_type": "code",
   "execution_count": 21,
   "outputs": [
    {
     "name": "stderr",
     "output_type": "stream",
     "text": [
      "  0%|          | 0/90 [00:00<?, ?it/s]/home/rafa/anaconda3/envs/sportstrack/lib/python3.7/site-packages/ipykernel_launcher.py:39: FutureWarning: Using short name for 'orient' is deprecated. Only the options: ('dict', list, 'series', 'split', 'records', 'index') will be used in a future version. Use one of the above to silence this warning.\n",
      "100%|██████████| 90/90 [2:05:39<00:00, 83.77s/it]   \n"
     ]
    }
   ],
   "source": [
    "from copy import copy\n",
    "import pickle as pkl\n",
    "\n",
    "\n",
    "def remove_ellipsis(sequence):\n",
    "    first_non_ellipsis = None\n",
    "    for idx, el in enumerate(sequence):\n",
    "        if el is not ...:\n",
    "            first_non_ellipsis = el\n",
    "            break\n",
    "    if first_non_ellipsis is None:\n",
    "        return sequence\n",
    "\n",
    "    current_non_ellipsis = first_non_ellipsis\n",
    "    for idx, el in enumerate(sequence):\n",
    "        if el is not ...:\n",
    "            current_non_ellipsis = el\n",
    "        else:\n",
    "            sequence[idx] = copy(current_non_ellipsis)\n",
    "    return sequence\n",
    "\n",
    "\n",
    "sequences = []\n",
    "for raw_video in tqdm(dataset.raw_videos):\n",
    "    gt = raw_video.load_pd()\n",
    "    vid_len = gt['frame'].max()\n",
    "    chunks = [(i, i + 31) for i in range(1, vid_len + 1, 32)]\n",
    "    if chunks[-1][1] > vid_len:\n",
    "        del chunks[-1]\n",
    "\n",
    "    for chunk in chunks:\n",
    "        is_in_frames = ((gt['frame'] >= chunk[0]) & (gt['frame'] <= chunk[1]))\n",
    "        person_ids = gt[is_in_frames]['person_id'].unique()\n",
    "        person_to_frames = {}\n",
    "        for person_id in person_ids:\n",
    "            person_frames = []\n",
    "            max_w = gt[is_in_frames & (gt['person_id'] == person_id)]['w'].max()\n",
    "            max_h = gt[is_in_frames & (gt['person_id'] == person_id)]['h'].max()\n",
    "            for frame in range(chunk[0], chunk[1] + 1):\n",
    "                label = gt[(gt['frame'] == frame) & (gt['person_id'] == person_id)].to_dict('r')\n",
    "                if len(label) > 1:\n",
    "                    raise ValueError('person id not unique for one frame')\n",
    "                if len(label) == 0:\n",
    "                    person_frames.append(...)\n",
    "                    continue\n",
    "                label = label[0]\n",
    "\n",
    "                img = cv2.imread(raw_video.name_pattern.format(frame=frame))\n",
    "                roi = img[label['y1']: label['y1'] + max_h, label['x1']: label['x1'] + max_w]\n",
    "                roi = cv2.resize(roi, (det_w, det_h), interpolation=cv2.INTER_AREA)\n",
    "                person_frames.append(roi)\n",
    "            cleared_frames = remove_ellipsis(person_frames)\n",
    "            if cleared_frames:\n",
    "                person_to_frames[person_id] = i3d.inference(cleared_frames)\n",
    "        sequences.append(Sequence(\n",
    "            gt=gt[is_in_frames],\n",
    "            name_pattern=raw_video.name_pattern,\n",
    "            klass=raw_video.klass,\n",
    "            person_features=person_to_frames\n",
    "        ))\n",
    "        with open(\"sequences.pkl\", 'wb') as file:\n",
    "            pkl.dump(sequences, file)\n"
   ],
   "metadata": {
    "collapsed": false
   }
  },
  {
   "cell_type": "code",
   "execution_count": 24,
   "outputs": [],
   "source": [
    "import pickle as pkl\n",
    "from random import shuffle\n",
    "\n",
    "shuffle(sequences)\n",
    "with open(\"sequences.pkl\", 'wb') as file:\n",
    "    pkl.dump(sequences, file)"
   ],
   "metadata": {
    "collapsed": false
   }
  },
  {
   "cell_type": "code",
   "execution_count": 22,
   "outputs": [],
   "source": [],
   "metadata": {
    "collapsed": false
   }
  },
  {
   "cell_type": "code",
   "execution_count": 22,
   "outputs": [],
   "source": [],
   "metadata": {
    "collapsed": false
   }
  }
 ],
 "metadata": {
  "kernelspec": {
   "display_name": "Python 3",
   "language": "python",
   "name": "python3"
  },
  "language_info": {
   "codemirror_mode": {
    "name": "ipython",
    "version": 2
   },
   "file_extension": ".py",
   "mimetype": "text/x-python",
   "name": "python",
   "nbconvert_exporter": "python",
   "pygments_lexer": "ipython2",
   "version": "2.7.6"
  }
 },
 "nbformat": 4,
 "nbformat_minor": 0
}
