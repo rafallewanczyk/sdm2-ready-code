{
 "cells": [
  {
   "cell_type": "code",
   "execution_count": 1,
   "metadata": {
    "collapsed": true
   },
   "outputs": [
    {
     "name": "stderr",
     "output_type": "stream",
     "text": [
      "/home/rafa/anaconda3/envs/sportstrack/lib/python3.7/site-packages/gluoncv/__init__.py:40: UserWarning: Both `mxnet==1.9.1` and `torch==1.8.1+cu111` are installed. You might encounter increased GPU memory footprint if both framework are used at the same time.\n",
      "  warnings.warn(f'Both `mxnet=={mx.__version__}` and `torch=={torch.__version__}` are installed. '\n",
      "[20:10:38] ../src/base.cc:79: cuDNN lib mismatch: linked-against version 8600 != compiled-against version 8101.  Set MXNET_CUDNN_LIB_CHECKING=0 to quiet this warning.\n"
     ]
    }
   ],
   "source": [
    "import pickle as pkl\n",
    "from utils.color_generator import ColorGenerator\n",
    "import hashlib\n",
    "from copy import copy\n",
    "from dataclasses import dataclass\n",
    "\n",
    "import cv2\n",
    "from tqdm import tqdm\n",
    "import mxnet as mx\n",
    "import numpy as np\n",
    "from gluoncv import model_zoo, data, utils\n",
    "from gluoncv.data.transforms.pose import detector_to_alpha_pose, heatmap_to_coord_alpha_pose\n",
    "\n",
    "gpu = mx.gpu()\n",
    "pose_net = model_zoo.get_model('alpha_pose_resnet101_v1b_coco', pretrained=True, ctx=gpu)"
   ]
  },
  {
   "cell_type": "code",
   "execution_count": 2,
   "outputs": [],
   "source": [
    "with open('clustered_sequences.pkl', 'rb') as file:\n",
    "    clustered_sequences = pkl.load(file)"
   ],
   "metadata": {
    "collapsed": false
   }
  },
  {
   "cell_type": "code",
   "execution_count": 3,
   "outputs": [
    {
     "name": "stderr",
     "output_type": "stream",
     "text": [
      "  0%|          | 0/911 [00:00<?, ?it/s][20:10:41] ../src/operator/nn/./cudnn/./cudnn_algoreg-inl.h:96: Running performance tests to find the best convolution algorithm, this can take a while... (set the environment variable MXNET_CUDNN_AUTOTUNE_DEFAULT to 0 to disable)\n",
      "[20:10:48] ../src/operator/nn/./cudnn/./cudnn_algoreg-inl.h:96: Running performance tests to find the best convolution algorithm, this can take a while... (set the environment variable MXNET_CUDNN_AUTOTUNE_DEFAULT to 0 to disable)\n",
      "  0%|          | 1/911 [00:21<5:19:52, 21.09s/it][20:11:04] ../src/operator/nn/./cudnn/./cudnn_algoreg-inl.h:96: Running performance tests to find the best convolution algorithm, this can take a while... (set the environment variable MXNET_CUDNN_AUTOTUNE_DEFAULT to 0 to disable)\n",
      "  0%|          | 2/911 [00:45<5:52:43, 23.28s/it][20:11:32] ../src/operator/nn/./cudnn/./cudnn_algoreg-inl.h:96: Running performance tests to find the best convolution algorithm, this can take a while... (set the environment variable MXNET_CUDNN_AUTOTUNE_DEFAULT to 0 to disable)\n",
      "[20:11:46] ../src/operator/nn/./cudnn/./cudnn_algoreg-inl.h:96: Running performance tests to find the best convolution algorithm, this can take a while... (set the environment variable MXNET_CUDNN_AUTOTUNE_DEFAULT to 0 to disable)\n",
      "  0%|          | 4/911 [01:45<6:50:36, 27.16s/it][20:12:28] ../src/operator/nn/./cudnn/./cudnn_algoreg-inl.h:96: Running performance tests to find the best convolution algorithm, this can take a while... (set the environment variable MXNET_CUDNN_AUTOTUNE_DEFAULT to 0 to disable)\n",
      "[20:12:50] ../src/operator/nn/./cudnn/./cudnn_algoreg-inl.h:96: Running performance tests to find the best convolution algorithm, this can take a while... (set the environment variable MXNET_CUDNN_AUTOTUNE_DEFAULT to 0 to disable)\n",
      "  1%|          | 6/911 [02:50<7:18:45, 29.09s/it][20:14:05] ../src/operator/nn/./cudnn/./cudnn_algoreg-inl.h:96: Running performance tests to find the best convolution algorithm, this can take a while... (set the environment variable MXNET_CUDNN_AUTOTUNE_DEFAULT to 0 to disable)\n",
      "  1%|          | 7/911 [03:30<8:12:51, 32.71s/it][20:14:39] ../src/operator/nn/./cudnn/./cudnn_algoreg-inl.h:96: Running performance tests to find the best convolution algorithm, this can take a while... (set the environment variable MXNET_CUDNN_AUTOTUNE_DEFAULT to 0 to disable)\n",
      "  9%|▉         | 80/911 [32:36<5:44:27, 24.87s/it][20:43:18] ../src/operator/nn/./cudnn/./cudnn_algoreg-inl.h:96: Running performance tests to find the best convolution algorithm, this can take a while... (set the environment variable MXNET_CUDNN_AUTOTUNE_DEFAULT to 0 to disable)\n",
      " 35%|███▍      | 315/911 [2:02:38<4:02:26, 24.41s/it][22:13:23] ../src/operator/nn/./cudnn/./cudnn_algoreg-inl.h:96: Running performance tests to find the best convolution algorithm, this can take a while... (set the environment variable MXNET_CUDNN_AUTOTUNE_DEFAULT to 0 to disable)\n",
      "100%|██████████| 911/911 [6:00:55<00:00, 23.77s/it]  \n"
     ]
    }
   ],
   "source": [
    "from dataset.sequence import SkeletonSeq\n",
    "\n",
    "with open('skeleton_sequences.pkl','rb') as file:\n",
    "    skeleton_clustered_sequences = pkl.load(file)\n",
    "\n",
    "for seq in tqdm(clustered_sequences[len(skeleton_clustered_sequences):]):\n",
    "    gt = seq.gt\n",
    "    start_frame = gt['frame'].min()\n",
    "    end_frame = gt['frame'].max()\n",
    "    is_in_frames = ((gt['frame'] >= start_frame) & (gt['frame'] <= end_frame))\n",
    "    skeletons_seq = []\n",
    "    confidence_seq = []\n",
    "    classes_seq = []\n",
    "    bboxes_seq = []\n",
    "    scores_seq = []\n",
    "    person_ids_seq = []\n",
    "\n",
    "    for frame in range(start_frame, end_frame + 1):\n",
    "        img = cv2.imread(seq.name_pattern.format(frame=frame))\n",
    "        labels = seq.gt[seq.gt['frame'] == frame].to_records()\n",
    "        bboxes = np.array([[label['x1'], label['y1'], label['x1'] + label['w'], label['y1'] + label['h']] for label in labels],dtype=np.float64)\n",
    "        scores = mx.nd.array(np.array([np.ones(bboxes.shape[0])[:, None]]))\n",
    "        classes= mx.nd.array(np.array([np.zeros(bboxes.shape[0])[:, None]]), ctx=gpu)\n",
    "        bboxes = mx.nd.array(np.array([bboxes[:]]), ctx=gpu)\n",
    "        person_ids = mx.nd.array(np.array([label['person_id'] for label in labels]))\n",
    "        pose_input, upscale_bbox =  detector_to_alpha_pose(img, classes, scores, bboxes, ctx=gpu)\n",
    "        pose_input = pose_input.copyto(gpu)\n",
    "        predicted_heatmap = pose_net(pose_input)\n",
    "        upscale_bbox = mx.nd.array(upscale_bbox, ctx=gpu)\n",
    "        pred_coords, confidence = heatmap_to_coord_alpha_pose(predicted_heatmap, upscale_bbox, ctx=gpu)\n",
    "        assert bboxes.shape[1] == pred_coords.shape[0]\n",
    "        skeletons_seq.append(pred_coords.copyto(mx.cpu()).asnumpy())\n",
    "        confidence_seq.append(confidence.copyto(mx.cpu()).asnumpy())\n",
    "        classes_seq.append(classes.copyto(mx.cpu()).asnumpy())\n",
    "        bboxes_seq.append(bboxes.copyto(mx.cpu()).asnumpy())\n",
    "        scores_seq.append(scores.copyto(mx.cpu()).asnumpy())\n",
    "        person_ids_seq.append(person_ids.copyto(mx.cpu()).asnumpy())\n",
    "\n",
    "    skeleton_clustered_seq = SkeletonSeq(\n",
    "        seq.name_pattern,\n",
    "        start_frame,\n",
    "        end_frame,\n",
    "        skeletons_seq,\n",
    "        confidence_seq,\n",
    "        classes_seq,\n",
    "        bboxes_seq,\n",
    "        scores_seq,\n",
    "        person_ids_seq\n",
    "    )\n",
    "    skeleton_clustered_sequences.append(skeleton_clustered_seq)\n",
    "    with open('skeleton_sequences.pkl','wb') as file:\n",
    "        pkl.dump(skeleton_clustered_sequences, file)\n",
    "    # for frame in tqdm(range(start_frame, end_frame + 1)):\n",
    "    #     img = cv2.imread(seq.name_pattern.format(frame=frame))\n",
    "    #     ax = utils.viz.cv_plot_keypoints(img, skeletons_seq[frame-start_frame], confidence_seq[frame-start_frame],\n",
    "    #                                      classes_seq[frame-start_frame], bboxes_seq[frame-start_frame], scores_seq[frame-start_frame],\n",
    "    #                                      box_thresh=0.5, keypoint_thresh=0.2)\n",
    "#                                      # labels=det_labels, colors=colors)\n",
    "#         cv2.imshow('frame', ax)\n",
    "#         cv2.waitKey(0)\n",
    "# cv2.destroyAllWindows()\n",
    "# cv2.waitKey(1)\n"
   ],
   "metadata": {
    "collapsed": false
   }
  }
 ],
 "metadata": {
  "kernelspec": {
   "display_name": "Python 3",
   "language": "python",
   "name": "python3"
  },
  "language_info": {
   "codemirror_mode": {
    "name": "ipython",
    "version": 2
   },
   "file_extension": ".py",
   "mimetype": "text/x-python",
   "name": "python",
   "nbconvert_exporter": "python",
   "pygments_lexer": "ipython2",
   "version": "2.7.6"
  }
 },
 "nbformat": 4,
 "nbformat_minor": 0
}
